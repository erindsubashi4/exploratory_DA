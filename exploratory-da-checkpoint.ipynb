{
 "cells": [
  {
   "cell_type": "markdown",
   "metadata": {},
   "source": [
    "# Research on car sales ads\n",
    "\n",
    "You're an analyst at Crankshaft List. Hundreds of free advertisements for vehicles are published on your site every day.\n",
    "\n",
    "You need to study data collected over the last few years and determine which factors influence the price of a vehicle. \n",
    "The main aim of the project is to explory each attribute of the dataset, to get an insight of each of them.\n",
    "\n"
   ]
  },
  {
   "cell_type": "markdown",
   "metadata": {},
   "source": [
    "### Step 1. Open the data file and study the general information. "
   ]
  },
  {
   "cell_type": "code",
   "execution_count": 3,
   "metadata": {},
   "outputs": [
    {
     "name": "stdout",
     "output_type": "stream",
     "text": [
      "       price  model_year           model  condition  cylinders fuel  odometer  \\\n",
      "0       9400      2011.0          bmw x5       good        6.0  gas  145000.0   \n",
      "1      25500         NaN      ford f-150       good        6.0  gas   88705.0   \n",
      "2       5500      2013.0  hyundai sonata   like new        4.0  gas  110000.0   \n",
      "3       1500      2003.0      ford f-150       fair        8.0  gas       NaN   \n",
      "4      14900      2017.0    chrysler 200  excellent        4.0  gas   80903.0   \n",
      "...      ...         ...             ...        ...        ...  ...       ...   \n",
      "51520   9249      2013.0   nissan maxima   like new        6.0  gas   88136.0   \n",
      "51521   2700      2002.0     honda civic    salvage        4.0  gas  181500.0   \n",
      "51522   3950      2009.0  hyundai sonata  excellent        4.0  gas  128000.0   \n",
      "51523   7455      2013.0  toyota corolla       good        4.0  gas  139573.0   \n",
      "51524   6300      2014.0   nissan altima       good        4.0  gas       NaN   \n",
      "\n",
      "      transmission    type paint_color  is_4wd date_posted  days_listed  \n",
      "0        automatic     SUV         NaN     1.0  2018-06-23           19  \n",
      "1        automatic  pickup       white     1.0  2018-10-19           50  \n",
      "2        automatic   sedan         red     NaN  2019-02-07           79  \n",
      "3        automatic  pickup         NaN     NaN  2019-03-22            9  \n",
      "4        automatic   sedan       black     NaN  2019-04-02           28  \n",
      "...            ...     ...         ...     ...         ...          ...  \n",
      "51520    automatic   sedan       black     NaN  2018-10-03           37  \n",
      "51521    automatic   sedan       white     NaN  2018-11-14           22  \n",
      "51522    automatic   sedan        blue     NaN  2018-11-15           32  \n",
      "51523    automatic   sedan       black     NaN  2018-07-02           71  \n",
      "51524    automatic   sedan         NaN     NaN  2018-06-05           10  \n",
      "\n",
      "[51525 rows x 13 columns]\n",
      "<class 'pandas.core.frame.DataFrame'>\n",
      "RangeIndex: 51525 entries, 0 to 51524\n",
      "Data columns (total 13 columns):\n",
      "price           51525 non-null int64\n",
      "model_year      47906 non-null float64\n",
      "model           51525 non-null object\n",
      "condition       51525 non-null object\n",
      "cylinders       46265 non-null float64\n",
      "fuel            51525 non-null object\n",
      "odometer        43633 non-null float64\n",
      "transmission    51525 non-null object\n",
      "type            51525 non-null object\n",
      "paint_color     42258 non-null object\n",
      "is_4wd          25572 non-null float64\n",
      "date_posted     51525 non-null object\n",
      "days_listed     51525 non-null int64\n",
      "dtypes: float64(4), int64(2), object(7)\n",
      "memory usage: 5.1+ MB\n",
      "None\n"
     ]
    },
    {
     "data": {
      "text/plain": [
       "price            0.000000\n",
       "model_year       7.023775\n",
       "model            0.000000\n",
       "condition        0.000000\n",
       "cylinders       10.208637\n",
       "fuel             0.000000\n",
       "odometer        15.316836\n",
       "transmission     0.000000\n",
       "type             0.000000\n",
       "paint_color     17.985444\n",
       "is_4wd          50.369723\n",
       "date_posted      0.000000\n",
       "days_listed      0.000000\n",
       "dtype: float64"
      ]
     },
     "execution_count": 3,
     "metadata": {},
     "output_type": "execute_result"
    }
   ],
   "source": [
    "import pandas as pd\n",
    "vehicle_site = pd.read_csv(r'C:\\Users\\User\\Desktop\\projects\\eda_project\\vehicles_us.csv', sep=',')\n",
    "print(vehicle_site)\n",
    "print(vehicle_site.info())\n",
    "vehicle_site.isnull().sum()*100/len(vehicle_site)"
   ]
  },
  {
   "cell_type": "markdown",
   "metadata": {},
   "source": [
    "Firstly, I opened the file to work on. I had a first sight of columns and their values. At first sight, we have most of data types in int64 or float64 which we can change to int32 and float32 for less memory use. Mainly each column do not have duplicates, but we have some Nan values in different percentage in each columns. is_4wd has most of it at 50,3% where below I fill it with 0 value, as it is recommended in the project description and as it is logic.  "
   ]
  },
  {
   "cell_type": "markdown",
   "metadata": {},
   "source": [
    "**Step 2 Data preprocessing "
   ]
  },
  {
   "cell_type": "markdown",
   "metadata": {},
   "source": [
    "— Identify and study missing values:\n",
    "In some cases there's an obvious way to replace missing values. For instance, if a Boolean field contains only True values, it's reasonable to assume that the missing values are False. There aren't such obvious fixes for other data types, and there are cases when the fact that a value is missing is significant. In such instances, don't fill in the values.\n",
    "When appropriate, do fill in the values. Explain why you chose to do so and how you selected the replacement values.\n",
    "Describe the factors that may have resulted in missing values.\n",
    "— Convert the data to the required types:\n",
    "Indicate the columns where the data types need to be changed and explain why."
   ]
  },
  {
   "cell_type": "code",
   "execution_count": 2,
   "metadata": {},
   "outputs": [
    {
     "name": "stdout",
     "output_type": "stream",
     "text": [
      "<class 'pandas.core.frame.DataFrame'>\n",
      "RangeIndex: 51525 entries, 0 to 51524\n",
      "Data columns (total 13 columns):\n",
      "price           51525 non-null int32\n",
      "model_year      47906 non-null float32\n",
      "model           51525 non-null object\n",
      "condition       51525 non-null object\n",
      "cylinders       46265 non-null float32\n",
      "fuel            51525 non-null object\n",
      "odometer        43633 non-null float64\n",
      "transmission    51525 non-null object\n",
      "type            51525 non-null object\n",
      "paint_color     42258 non-null object\n",
      "is_4wd          25572 non-null float32\n",
      "date_posted     51525 non-null object\n",
      "days_listed     51525 non-null int32\n",
      "dtypes: float32(3), float64(1), int32(2), object(7)\n",
      "memory usage: 4.1+ MB\n",
      "None\n"
     ]
    }
   ],
   "source": [
    "vehicle_site[['price', 'days_listed']] = vehicle_site[['price', 'days_listed']].astype('int32')\n",
    "vehicle_site[['model_year', 'cylinders', 'is_4wd']] = vehicle_site[['model_year', 'cylinders', 'is_4wd']].astype('float32')\n",
    "print(vehicle_site.info())"
   ]
  },
  {
   "cell_type": "markdown",
   "metadata": {},
   "source": [
    "After a scanner for columns data types, i realised the some columns did not need to be 64 bits, but 32, so i changed this for memory-saving purpose.\n",
    "I the next cell, I got an overview for null values in each columns. As you have suggested in the project description, the most obvious missing value are in is_4wd, where I think that missing values are just the False value (as the columns has boolean values and has only True values). So i have changed these misswing values to 0.0 value, as I Think that when half of values are True. the missing one are False, but have not be registered in file. The reason of this missing value is that the data entry employees might find it appropriate to let 0.0 empty, in is_4wd column.\n",
    "I fillied missing values of model year and paint_color. I filled with its median model_year column, whchich I do not think affects in data distortion and the paint_color with 'unknown' value. Odometer column has about 15% of Nan values so I did not change it."
   ]
  },
  {
   "cell_type": "markdown",
   "metadata": {},
   "source": [
    "**Step 3. Make calculations and add them to the table\n",
    "Is there a connection between having kids and repaying a loan on time?\n",
    "Is there a connection between marital status and repaying a loan on time?\n",
    "Is there a connection between income level and repaying a loan on time?\n",
    "How do different loan purposes affect on-time loan repayment?\n",
    "Interpret your answers. Explain what the results you obtained mean.\n"
   ]
  },
  {
   "cell_type": "code",
   "execution_count": 4,
   "metadata": {},
   "outputs": [
    {
     "name": "stdout",
     "output_type": "stream",
     "text": [
      "3    7510\n",
      "5    7392\n",
      "6    7356\n",
      "0    7339\n",
      "4    7334\n",
      "2    7299\n",
      "1    7295\n",
      "Name: weekday, dtype: int64\n"
     ]
    }
   ],
   "source": [
    "vehicle_site['date_posted'] = pd.to_datetime(vehicle_site['date_posted'], format='%Y-%m-%d')\n",
    "vehicle_site['weekday'] = vehicle_site['date_posted'].dt.weekday\n",
    "print(vehicle_site['weekday'].value_counts())"
   ]
  },
  {
   "cell_type": "code",
   "execution_count": 5,
   "metadata": {},
   "outputs": [
    {
     "name": "stdout",
     "output_type": "stream",
     "text": [
      "2018    35683\n",
      "2019    15842\n",
      "Name: year, dtype: int64\n",
      "10    4643\n",
      "12    4564\n",
      "3     4559\n",
      "5     4503\n",
      "8     4480\n",
      "7     4471\n",
      "9     4452\n",
      "1     4452\n",
      "11    4354\n",
      "6     4216\n",
      "2     4014\n",
      "4     2817\n",
      "Name: month, dtype: int64\n"
     ]
    }
   ],
   "source": [
    "vehicle_site['year'] = pd.DatetimeIndex(vehicle_site['date_posted']).year\n",
    "vehicle_site['month'] = pd.DatetimeIndex(vehicle_site['date_posted']).month\n",
    "print(vehicle_site['year'].value_counts())\n",
    "print(vehicle_site['month'].value_counts())"
   ]
  },
  {
   "cell_type": "code",
   "execution_count": 6,
   "metadata": {},
   "outputs": [
    {
     "name": "stdout",
     "output_type": "stream",
     "text": [
      "0         7.0\n",
      "1         7.0\n",
      "2         6.0\n",
      "3        16.0\n",
      "4         2.0\n",
      "         ... \n",
      "51520     5.0\n",
      "51521    16.0\n",
      "51522     9.0\n",
      "51523     5.0\n",
      "51524     4.0\n",
      "Name: age, Length: 51525, dtype: float64\n"
     ]
    }
   ],
   "source": [
    "vehicle_site['age'] = vehicle_site['year'] - vehicle_site['model_year']\n",
    "print(vehicle_site['age'])"
   ]
  },
  {
   "cell_type": "code",
   "execution_count": 7,
   "metadata": {},
   "outputs": [
    {
     "name": "stdout",
     "output_type": "stream",
     "text": [
      "0    20714.285714\n",
      "1    12672.142857\n",
      "2    18333.333333\n",
      "3             NaN\n",
      "4    40451.500000\n",
      "Name: mil_mean, dtype: float64\n"
     ]
    }
   ],
   "source": [
    "vehicle_site['mil_mean'] = vehicle_site['odometer'] / vehicle_site['age']\n",
    "print(vehicle_site['mil_mean'].head())"
   ]
  },
  {
   "cell_type": "code",
   "execution_count": 8,
   "metadata": {},
   "outputs": [
    {
     "name": "stdout",
     "output_type": "stream",
     "text": [
      "3    24773\n",
      "2    20145\n",
      "4     4742\n",
      "1     1607\n",
      "5      143\n",
      "0      115\n",
      "Name: condition_id, dtype: int64\n"
     ]
    }
   ],
   "source": [
    "#condition_id = {'new': 5, 'like new': 4, 'excellent': 3, 'good': 2, 'fair': 1, 'salvage': 0}\n",
    "#vehicle_site['condition_id'].replace({'new': condition_id, 'like new': condition_id, 'excellent': condition_id, 'good': condition_id, 'fair': condition_id, 'salvage': condition_id}))\n",
    "\n",
    "vehicle_site['condition_id'] = vehicle_site['condition'].replace(to_replace=['new', 'like new', 'excellent', 'good', 'fair', 'salvage'], value=[5, 4, 3, 2, 1, 0])\n",
    "print(vehicle_site['condition_id'].value_counts())\n"
   ]
  },
  {
   "cell_type": "markdown",
   "metadata": {},
   "source": [
    "In this step, firstly I added the column weekday, which gives as the day of posted date. Then I extrected the year from date posted. With year extracted, I could calculate car's age with a simple substraction. Then I calculated millage mean per year, since the car was built. At last I added the column with numeric values, based on condition string values.  "
   ]
  },
  {
   "cell_type": "markdown",
   "metadata": {},
   "source": [
    "**Step 4. Carry out exploratory data analysis\n"
   ]
  },
  {
   "cell_type": "markdown",
   "metadata": {},
   "source": [
    "•\tStudy the following parameters: price, vehicle's age when the ad was placed, mileage, number of cylinders, and condition. Plot histograms for each of these parameters. Study how outliers affect the form and readability of the histograms.\n",
    "•\tDetermine the upper limits of outliers, remove the outliers and store them in a separate DataFrame, and continue your work with the filtered data.\n",
    "•\tUse the filtered data to plot new histograms. Compare them with the earlier histograms (the ones that included outliers). Draw conclusions for each histogram.\n",
    "•\tStudy how many days advertisements were displayed (days_listed). Plot a histogram. Calculate the mean and median. Describe the typical lifetime of an ad. Determine when ads were removed quickly, and when they were listed for an abnormally long time.\n",
    "•\tAnalyze the number of ads and the average price for each type of vehicle. Plot a graph showing the dependence of the number of ads on the vehicle type. Select the two types with the greatest number of ads.\n",
    "•\tWhat factors impact the price most? Take each of the popular types you detected at the previous stage and study whether the price depends on age, mileage, condition, transmission type, and color. For categorical variables (transmission type and color), plot box-and-whisker charts, and create scatterplots for the rest. When analyzing categorical variables, note that the categories must have at least 50 ads; otherwise, their parameters won't be valid for analysis.\n"
   ]
  },
  {
   "cell_type": "code",
   "execution_count": 9,
   "metadata": {},
   "outputs": [
    {
     "name": "stdout",
     "output_type": "stream",
     "text": [
      "[[<matplotlib.axes._subplots.AxesSubplot object at 0x7efc4518fc10>]]\n",
      "count     51525.000000\n",
      "mean      12132.464920\n",
      "std       10040.803015\n",
      "min           1.000000\n",
      "25%        5000.000000\n",
      "50%        9000.000000\n",
      "75%       16839.000000\n",
      "max      375000.000000\n",
      "Name: price, dtype: float64\n"
     ]
    },
    {
     "data": {
      "image/png": "[encoded data removed]",
      "text/plain": [
       "<Figure size 432x288 with 1 Axes>"
      ]
     },
     "metadata": {
      "needs_background": "light"
     },
     "output_type": "display_data"
    }
   ],
   "source": [
    "print(vehicle_site.hist('price', bins=100, range=(0,55000)))\n",
    "print(vehicle_site['price'].describe())"
   ]
  },
  {
   "cell_type": "code",
   "execution_count": 10,
   "metadata": {},
   "outputs": [
    {
     "name": "stdout",
     "output_type": "stream",
     "text": [
      "[[<matplotlib.axes._subplots.AxesSubplot object at 0x7efc073e2710>]]\n",
      "count    51525.000000\n",
      "mean         8.469229\n",
      "std          6.079773\n",
      "min          0.000000\n",
      "25%          4.000000\n",
      "50%          7.000000\n",
      "75%         12.000000\n",
      "max        110.000000\n",
      "Name: age, dtype: float64\n"
     ]
    },
    {
     "data": {
      "image/png": "[encoded data removed]",
      "text/plain": [
       "<Figure size 432x288 with 1 Axes>"
      ]
     },
     "metadata": {
      "needs_background": "light"
     },
     "output_type": "display_data"
    }
   ],
   "source": [
    "print(vehicle_site.hist('age', bins=50))\n",
    "print(vehicle_site['age'].describe())"
   ]
  },
  {
   "cell_type": "code",
   "execution_count": 11,
   "metadata": {},
   "outputs": [
    {
     "name": "stdout",
     "output_type": "stream",
     "text": [
      "[[<matplotlib.axes._subplots.AxesSubplot object at 0x7efc06c49b50>]]\n",
      "count     43633.000000\n",
      "mean     115553.461738\n",
      "std       65094.611341\n",
      "min           0.000000\n",
      "25%       70000.000000\n",
      "50%      113000.000000\n",
      "75%      155000.000000\n",
      "max      990000.000000\n",
      "Name: odometer, dtype: float64\n"
     ]
    },
    {
     "data": {
      "image/png": "[encoded data removed]",
      "text/plain": [
       "<Figure size 432x288 with 1 Axes>"
      ]
     },
     "metadata": {
      "needs_background": "light"
     },
     "output_type": "display_data"
    }
   ],
   "source": [
    "print(vehicle_site.hist('odometer', bins=50, range=(0, 400000)))\n",
    "print(vehicle_site['odometer'].describe())"
   ]
  },
  {
   "cell_type": "code",
   "execution_count": 12,
   "metadata": {},
   "outputs": [
    {
     "name": "stdout",
     "output_type": "stream",
     "text": [
      "[[<matplotlib.axes._subplots.AxesSubplot object at 0x7efc4518f990>]]\n",
      "count    46265.000000\n",
      "mean         6.125235\n",
      "std          1.660360\n",
      "min          3.000000\n",
      "25%          4.000000\n",
      "50%          6.000000\n",
      "75%          8.000000\n",
      "max         12.000000\n",
      "Name: cylinders, dtype: float64\n"
     ]
    },
    {
     "data": {
      "image/png": "[encoded data removed]",
      "text/plain": [
       "<Figure size 432x288 with 1 Axes>"
      ]
     },
     "metadata": {
      "needs_background": "light"
     },
     "output_type": "display_data"
    }
   ],
   "source": [
    "print(vehicle_site.hist('cylinders', bins=50))\n",
    "print(vehicle_site['cylinders'].describe())"
   ]
  },
  {
   "cell_type": "code",
   "execution_count": 13,
   "metadata": {},
   "outputs": [
    {
     "name": "stdout",
     "output_type": "stream",
     "text": [
      "[[<matplotlib.axes._subplots.AxesSubplot object at 0x7efc06cbbed0>]]\n",
      "count    51525.000000\n",
      "mean         2.637535\n",
      "std          0.712447\n",
      "min          0.000000\n",
      "25%          2.000000\n",
      "50%          3.000000\n",
      "75%          3.000000\n",
      "max          5.000000\n",
      "Name: condition_id, dtype: float64\n"
     ]
    },
    {
     "data": {
      "image/png": "[encoded data removed]",
      "text/plain": [
       "<Figure size 432x288 with 1 Axes>"
      ]
     },
     "metadata": {
      "needs_background": "light"
     },
     "output_type": "display_data"
    }
   ],
   "source": [
    "print(vehicle_site.hist('condition_id', bins=50))\n",
    "print(vehicle_site['condition_id'].describe())"
   ]
  },
  {
   "cell_type": "markdown",
   "metadata": {},
   "source": [
    "Above, I did some histograms over certain attributes to get an overview of outliers. At the first graph, we see some outliers after 50000$ price. At age graph, it is a peak at about 5=6 years and another at 8-9 years and then at about after 25 years old cars we have few numbers of cars. From 100000-150000 KM we have the peak of millage. For the cylinders graphs we see that there are more 6 and 8 cylinders vehicles. From the last graph, we get the sight that most of cars have an excellent to good condition. From the describe() method at each parameter, I realised that price and age has a very big standard deviation, that makes me think they have more outliers that other parameters, especially price column where mean is about 30 percent bigger than its median."
   ]
  },
  {
   "cell_type": "code",
   "execution_count": 14,
   "metadata": {},
   "outputs": [
    {
     "name": "stderr",
     "output_type": "stream",
     "text": [
      "/opt/conda/lib/python3.7/site-packages/numpy/core/_asarray.py:83: VisibleDeprecationWarning: Creating an ndarray from ragged nested sequences (which is a list-or-tuple of lists-or-tuples-or ndarrays with different lengths or shapes) is deprecated. If you meant to do this, you must specify 'dtype=object' when creating the ndarray\n",
      "  return array(a, dtype, copy=False, order=order)\n"
     ]
    },
    {
     "data": {
      "text/plain": [
       "<matplotlib.axes._subplots.AxesSubplot at 0x7efc06b8b050>"
      ]
     },
     "execution_count": 14,
     "metadata": {},
     "output_type": "execute_result"
    },
    {
     "data": {
      "image/png": "[encoded data removed]",
      "text/plain": [
       "<Figure size 1440x1296 with 1 Axes>"
      ]
     },
     "metadata": {
      "needs_background": "light"
     },
     "output_type": "display_data"
    }
   ],
   "source": [
    "import matplotlib.pyplot as plt\n",
    "plt.show()\n",
    "vehicle_site.boxplot(figsize=(20,18))\n"
   ]
  },
  {
   "cell_type": "markdown",
   "metadata": {},
   "source": [
    "From price histogtram, we see that above 50000$, are a few cars posted for this price. I think we have to work with values until 50000$. Furthermore, there is something tricky, there are many cars with values near 0 $, (Not normal). On the other side, at odometer column, we can consider as outlier cars with more than 350000 km. At age, we can use as outliers values over 36 years old models. I continue below with code for working in filtered DataFrame."
   ]
  },
  {
   "cell_type": "code",
   "execution_count": 15,
   "metadata": {},
   "outputs": [
    {
     "name": "stdout",
     "output_type": "stream",
     "text": [
      "       price  model_year           model  condition  cylinders fuel  odometer  \\\n",
      "0       9400      2011.0          bmw x5       good        6.0  gas  145000.0   \n",
      "1      25500      2011.0      ford f-150       good        6.0  gas   88705.0   \n",
      "2       5500      2013.0  hyundai sonata   like new        4.0  gas  110000.0   \n",
      "4      14900      2017.0    chrysler 200  excellent        4.0  gas   80903.0   \n",
      "5      14990      2014.0    chrysler 300  excellent        6.0  gas   57954.0   \n",
      "...      ...         ...             ...        ...        ...  ...       ...   \n",
      "51520   9249      2013.0   nissan maxima   like new        6.0  gas   88136.0   \n",
      "51521   2700      2002.0     honda civic    salvage        4.0  gas  181500.0   \n",
      "51522   3950      2009.0  hyundai sonata  excellent        4.0  gas  128000.0   \n",
      "51523   7455      2013.0  toyota corolla       good        4.0  gas  139573.0   \n",
      "51524   6300      2014.0   nissan altima       good        4.0  gas       NaN   \n",
      "\n",
      "      transmission    type paint_color  ...  date_posted days_listed  weekday  \\\n",
      "0        automatic     SUV         NaN  ...   2018-06-23          19        5   \n",
      "1        automatic  pickup       white  ...   2018-10-19          50        4   \n",
      "2        automatic   sedan         red  ...   2019-02-07          79        3   \n",
      "4        automatic   sedan       black  ...   2019-04-02          28        1   \n",
      "5        automatic   sedan       black  ...   2018-06-20          15        2   \n",
      "...            ...     ...         ...  ...          ...         ...      ...   \n",
      "51520    automatic   sedan       black  ...   2018-10-03          37        2   \n",
      "51521    automatic   sedan       white  ...   2018-11-14          22        2   \n",
      "51522    automatic   sedan        blue  ...   2018-11-15          32        3   \n",
      "51523    automatic   sedan       black  ...   2018-07-02          71        0   \n",
      "51524    automatic   sedan         NaN  ...   2018-06-05          10        1   \n",
      "\n",
      "       year  month   age      mil_mean  condition_id  more_expensive  \\\n",
      "0      2018      6   7.0  20714.285714             2           False   \n",
      "1      2018     10   7.0  12672.142857             2           False   \n",
      "2      2019      2   6.0  18333.333333             4           False   \n",
      "4      2019      4   2.0  40451.500000             3           False   \n",
      "5      2018      6   4.0  14488.500000             3           False   \n",
      "...     ...    ...   ...           ...           ...             ...   \n",
      "51520  2018     10   5.0  17627.200000             4           False   \n",
      "51521  2018     11  16.0  11343.750000             0           False   \n",
      "51522  2018     11   9.0  14222.222222             3           False   \n",
      "51523  2018      7   5.0  27914.600000             2           False   \n",
      "51524  2018      6   4.0           NaN             2           False   \n",
      "\n",
      "       less_expensive  \n",
      "0               False  \n",
      "1               False  \n",
      "2               False  \n",
      "4               False  \n",
      "5               False  \n",
      "...               ...  \n",
      "51520           False  \n",
      "51521           False  \n",
      "51522           False  \n",
      "51523           False  \n",
      "51524           False  \n",
      "\n",
      "[47308 rows x 21 columns]\n"
     ]
    }
   ],
   "source": [
    "#print(len(vehicle_site.query('price < 2500')) / len(vehicle_site))  #only 6% of rows are lower than 2500$ price.\n",
    "#print(len(vehicle_site.query('price > 50000')) / len(vehicle_site)) #only 0.4% are bigger price than 50000$.\n",
    "vehicle_site['more_expensive'] = vehicle_site['price'] > 50000\n",
    "vehicle_site['less_expensive'] = vehicle_site['price'] < 2500\n",
    "more_expensive_stat = vehicle_site.pivot_table(index='model', values='more_expensive')\n",
    "good_prices = more_expensive_stat.query('more_expensive < 0.5')\n",
    "good_data_price = vehicle_site.query('model in @good_prices.index and 2500 < price < 50000')\n",
    "print(good_data_price)"
   ]
  },
  {
   "cell_type": "code",
   "execution_count": 16,
   "metadata": {},
   "outputs": [
    {
     "name": "stdout",
     "output_type": "stream",
     "text": [
      "   price  model_year           model  condition  cylinders fuel  odometer  \\\n",
      "0   9400      2011.0          bmw x5       good        6.0  gas  145000.0   \n",
      "1  25500      2011.0      ford f-150       good        6.0  gas   88705.0   \n",
      "2   5500      2013.0  hyundai sonata   like new        4.0  gas  110000.0   \n",
      "3   1500      2003.0      ford f-150       fair        8.0  gas       NaN   \n",
      "4  14900      2017.0    chrysler 200  excellent        4.0  gas   80903.0   \n",
      "\n",
      "  transmission    type paint_color  ...  days_listed weekday  year  month  \\\n",
      "0    automatic     SUV         NaN  ...           19       5  2018      6   \n",
      "1    automatic  pickup       white  ...           50       4  2018     10   \n",
      "2    automatic   sedan         red  ...           79       3  2019      2   \n",
      "3    automatic  pickup         NaN  ...            9       4  2019      3   \n",
      "4    automatic   sedan       black  ...           28       1  2019      4   \n",
      "\n",
      "    age      mil_mean  condition_id  more_expensive  less_expensive  older  \n",
      "0   7.0  20714.285714             2           False           False  False  \n",
      "1   7.0  12672.142857             2           False           False  False  \n",
      "2   6.0  18333.333333             4           False           False  False  \n",
      "3  16.0           NaN             1           False            True  False  \n",
      "4   2.0  40451.500000             3           False           False  False  \n",
      "\n",
      "[5 rows x 22 columns]\n"
     ]
    }
   ],
   "source": [
    "vehicle_site['older'] = vehicle_site['age'] > 36\n",
    "\n",
    "older_stat = vehicle_site.pivot_table(index='model', values='older')\n",
    "good_ages = older_stat.query('older < 0.5')\n",
    "good_data_ages = vehicle_site.query('model in @good_ages.index and age < 36')\n",
    "print(good_data_ages.head())"
   ]
  },
  {
   "cell_type": "code",
   "execution_count": 17,
   "metadata": {},
   "outputs": [
    {
     "name": "stdout",
     "output_type": "stream",
     "text": [
      "   price  model_year           model  condition  cylinders fuel  odometer  \\\n",
      "0   9400      2011.0          bmw x5       good        6.0  gas  145000.0   \n",
      "1  25500      2011.0      ford f-150       good        6.0  gas   88705.0   \n",
      "2   5500      2013.0  hyundai sonata   like new        4.0  gas  110000.0   \n",
      "4  14900      2017.0    chrysler 200  excellent        4.0  gas   80903.0   \n",
      "5  14990      2014.0    chrysler 300  excellent        6.0  gas   57954.0   \n",
      "\n",
      "  transmission    type paint_color  ...  weekday  year  month  age  \\\n",
      "0    automatic     SUV         NaN  ...        5  2018      6  7.0   \n",
      "1    automatic  pickup       white  ...        4  2018     10  7.0   \n",
      "2    automatic   sedan         red  ...        3  2019      2  6.0   \n",
      "4    automatic   sedan       black  ...        1  2019      4  2.0   \n",
      "5    automatic   sedan       black  ...        2  2018      6  4.0   \n",
      "\n",
      "       mil_mean  condition_id  more_expensive  less_expensive  older  more_km  \n",
      "0  20714.285714             2           False           False  False    False  \n",
      "1  12672.142857             2           False           False  False    False  \n",
      "2  18333.333333             4           False           False  False    False  \n",
      "4  40451.500000             3           False           False  False    False  \n",
      "5  14488.500000             3           False           False  False    False  \n",
      "\n",
      "[5 rows x 23 columns]\n"
     ]
    }
   ],
   "source": [
    "vehicle_site['more_km'] = vehicle_site['odometer'] > 350000\n",
    "\n",
    "more_km = vehicle_site.pivot_table(index='model', values='more_km')\n",
    "good_km = more_km.query('more_km < 0.5')\n",
    "good_data_km = vehicle_site.query('model in @good_km.index & odometer < 350000')\n",
    "print(good_data_km.head())"
   ]
  },
  {
   "cell_type": "code",
   "execution_count": 18,
   "metadata": {},
   "outputs": [
    {
     "data": {
      "text/plain": [
       "array([[<matplotlib.axes._subplots.AxesSubplot object at 0x7efc06b006d0>]],\n",
       "      dtype=object)"
      ]
     },
     "execution_count": 18,
     "metadata": {},
     "output_type": "execute_result"
    },
    {
     "data": {
      "image/png": "[encoded data removed]",
      "text/plain": [
       "<Figure size 432x288 with 1 Axes>"
      ]
     },
     "metadata": {
      "needs_background": "light"
     },
     "output_type": "display_data"
    }
   ],
   "source": [
    "good_data_stat1 = good_data_price.pivot_table(index='model', values='price', aggfunc='median')\n",
    "good_data_stat1.hist('price', bins=50)"
   ]
  },
  {
   "cell_type": "code",
   "execution_count": 19,
   "metadata": {},
   "outputs": [
    {
     "data": {
      "text/plain": [
       "array([[<matplotlib.axes._subplots.AxesSubplot object at 0x7efc06ba6150>]],\n",
       "      dtype=object)"
      ]
     },
     "execution_count": 19,
     "metadata": {},
     "output_type": "execute_result"
    },
    {
     "data": {
      "image/png": "[encoded data removed]",
      "text/plain": [
       "<Figure size 432x288 with 1 Axes>"
      ]
     },
     "metadata": {
      "needs_background": "light"
     },
     "output_type": "display_data"
    }
   ],
   "source": [
    "good_data_stat2 = good_data_km.pivot_table(index='model', values='odometer', aggfunc='median')\n",
    "good_data_stat2.hist('odometer', bins=50)"
   ]
  },
  {
   "cell_type": "code",
   "execution_count": 20,
   "metadata": {},
   "outputs": [
    {
     "data": {
      "text/plain": [
       "array([[<matplotlib.axes._subplots.AxesSubplot object at 0x7efc0696e610>]],\n",
       "      dtype=object)"
      ]
     },
     "execution_count": 20,
     "metadata": {},
     "output_type": "execute_result"
    },
    {
     "data": {
      "image/png": "[encoded data removed]",
      "text/plain": [
       "<Figure size 432x288 with 1 Axes>"
      ]
     },
     "metadata": {
      "needs_background": "light"
     },
     "output_type": "display_data"
    }
   ],
   "source": [
    "good_data_stat3 = good_data_ages.pivot_table(index='model', values='age', aggfunc='median')\n",
    "good_data_stat3.hist('age', bins=30)"
   ]
  },
  {
   "cell_type": "markdown",
   "metadata": {},
   "source": [
    "Here we have the new histogram of price where it's obvious that price under 2500 is not more in the graph, nor more than 50000$. I sued the median func to price, becuase at the describe method of price, the std value was to high and we had an abnormally dispersion. For the same reason I used median func at odometer histogram, hwere we see that we have a peak from 90000 to 140000 km. At age column we have a peak at 6 to 10 years car."
   ]
  },
  {
   "cell_type": "code",
   "execution_count": 21,
   "metadata": {},
   "outputs": [
    {
     "data": {
      "text/plain": [
       "count    51525.00000\n",
       "mean        39.55476\n",
       "std         28.20427\n",
       "min          0.00000\n",
       "25%         19.00000\n",
       "50%         33.00000\n",
       "75%         53.00000\n",
       "max        271.00000\n",
       "Name: days_listed, dtype: float64"
      ]
     },
     "execution_count": 21,
     "metadata": {},
     "output_type": "execute_result"
    },
    {
     "data": {
      "image/png": "[encoded data removed]",
      "text/plain": [
       "<Figure size 432x288 with 1 Axes>"
      ]
     },
     "metadata": {
      "needs_background": "light"
     },
     "output_type": "display_data"
    }
   ],
   "source": [
    "vehicle_site.hist('days_listed', bins=50, range=(0,170))\n",
    "vehicle_site['days_listed'].describe()\n"
   ]
  },
  {
   "cell_type": "markdown",
   "metadata": {},
   "source": [
    "Here, I have analyzed days posted columns, which has information for the number of days an ad has been posted. I ploted a histogram. From the histogram I see that we have a peak at 25-40 days per car, but the strange thing is that we have about 50 cars that have been posted as an ad for 0 days and other cars have been posted for max 5 days. From describe() method I got mean and median and all insight of data."
   ]
  },
  {
   "cell_type": "code",
   "execution_count": 22,
   "metadata": {},
   "outputs": [
    {
     "name": "stdout",
     "output_type": "stream",
     "text": [
      "             model         price\n",
      "type                            \n",
      "truck        11582  17108.052236\n",
      "SUV          11390  11846.750483\n",
      "sedan        10749   7678.274258\n",
      "pickup        6605  16426.010144\n",
      "coupe         2073  15343.636276\n",
      "wagon         1447   9582.961990\n",
      "mini-van      1052   8666.860266\n",
      "hatchback      964   7351.335062\n",
      "van            576  11349.368056\n",
      "convertible    407  14110.167076\n",
      "other          241  11562.120332\n",
      "offroad        198  15045.080808\n",
      "bus             24  17135.666667\n"
     ]
    },
    {
     "data": {
      "text/plain": [
       "type\n",
       "truck    11582\n",
       "SUV      11390\n",
       "Name: model, dtype: int64"
      ]
     },
     "execution_count": 22,
     "metadata": {},
     "output_type": "execute_result"
    }
   ],
   "source": [
    "number_ads = good_data_price.pivot_table(index='type', values=['model','price'], aggfunc= {'model': 'count', 'price': 'mean'})\n",
    "print(number_ads.sort_values(by='model', ascending=False))\n",
    "number_ads['model'].nlargest(2)"
   ]
  },
  {
   "cell_type": "markdown",
   "metadata": {},
   "source": [
    "The two most posted types of vehicles are SUVs and trucks. We describe these two on below questions."
   ]
  },
  {
   "cell_type": "code",
   "execution_count": 23,
   "metadata": {},
   "outputs": [
    {
     "name": "stdout",
     "output_type": "stream",
     "text": [
      "-0.6127140168185213\n"
     ]
    },
    {
     "data": {
      "image/png": "[encoded data removed]",
      "text/plain": [
       "<Figure size 432x288 with 1 Axes>"
      ]
     },
     "metadata": {
      "needs_background": "light"
     },
     "output_type": "display_data"
    }
   ],
   "source": [
    "import matplotlib.pyplot as plt\n",
    "final_data = good_data_price.query('type in [\"SUV\",\"truck\"]')\n",
    "final_data.plot(x='age', y='price', kind='scatter')\n",
    "print(final_data['price'].corr(final_data['age']))"
   ]
  },
  {
   "cell_type": "markdown",
   "metadata": {},
   "source": [
    "We have a negative correlation, as higher the price as newer the car: this is the trend."
   ]
  },
  {
   "cell_type": "code",
   "execution_count": 24,
   "metadata": {},
   "outputs": [
    {
     "name": "stdout",
     "output_type": "stream",
     "text": [
      "0.26780848744542035\n"
     ]
    },
    {
     "data": {
      "image/png": "[encoded data removed]",
      "text/plain": [
       "<Figure size 432x288 with 1 Axes>"
      ]
     },
     "metadata": {
      "needs_background": "light"
     },
     "output_type": "display_data"
    }
   ],
   "source": [
    "\n",
    "final_data.plot(x='condition_id', y='price', kind='scatter')\n",
    "print(final_data['price'].corr(final_data['condition_id']))"
   ]
  },
  {
   "cell_type": "markdown",
   "metadata": {},
   "source": [
    "Here we see a small correlation value, which says that car does not depend too much on its condition."
   ]
  },
  {
   "cell_type": "code",
   "execution_count": 25,
   "metadata": {},
   "outputs": [
    {
     "name": "stdout",
     "output_type": "stream",
     "text": [
      "-0.5319957733031435\n"
     ]
    },
    {
     "data": {
      "image/png": "[encoded data removed]",
      "text/plain": [
       "<Figure size 432x288 with 1 Axes>"
      ]
     },
     "metadata": {
      "needs_background": "light"
     },
     "output_type": "display_data"
    }
   ],
   "source": [
    "final_data.plot(x='odometer', y='price', kind='scatter')\n",
    "print(final_data['price'].corr(final_data['odometer']))           \n"
   ]
  },
  {
   "cell_type": "markdown",
   "metadata": {},
   "source": [
    "As it was expected, as lower the millage of car, that higher will be the price. Negative value of correlation as it is a oblique proportion."
   ]
  },
  {
   "cell_type": "code",
   "execution_count": 26,
   "metadata": {},
   "outputs": [
    {
     "data": {
      "text/plain": [
       "<seaborn.axisgrid.FacetGrid at 0x7efbe89ff150>"
      ]
     },
     "execution_count": 26,
     "metadata": {},
     "output_type": "execute_result"
    },
    {
     "data": {
      "image/png": "[encoded data removed]",
      "text/plain": [
       "<Figure size 360x360 with 1 Axes>"
      ]
     },
     "metadata": {
      "needs_background": "light"
     },
     "output_type": "display_data"
    },
    {
     "data": {
      "image/png": "[encoded data removed]",
      "text/plain": [
       "<Figure size 360x360 with 1 Axes>"
      ]
     },
     "metadata": {
      "needs_background": "light"
     },
     "output_type": "display_data"
    }
   ],
   "source": [
    "import matplotlib.pyplot as plt\n",
    "import seaborn as sns\n",
    "\n",
    "final_data = good_data_price.query('type in [\"SUV\",\"truck\"]')\n",
    "suv=final_data[final_data['type'] == 'SUV']\n",
    "#suv['transmission'].value_counts() #All of SUVs has more then 50 ads. Checked\n",
    "#suv['paint_color'].value_counts() #All checked, yellow and purple have to be excluded\n",
    "suv = suv[suv.paint_color != 'yellow']\n",
    "suv = suv[suv.paint_color != 'purple']\n",
    "\n",
    "\n",
    "\n",
    "sns.catplot(x=\"transmission\", y=\"price\", kind=\"box\", data=suv)\n",
    "sns.catplot(x=\"paint_color\", y=\"price\", kind=\"box\", data=suv)"
   ]
  },
  {
   "cell_type": "code",
   "execution_count": null,
   "metadata": {},
   "outputs": [],
   "source": []
  },
  {
   "cell_type": "raw",
   "metadata": {},
   "source": [
    "From the graph above, we can see that SUVs has a slightly bigger average price when in other tramission type. They also has a slighly more avg price when they are orange, which can be explained as it is a rare color in SUVs."
   ]
  },
  {
   "cell_type": "code",
   "execution_count": 27,
   "metadata": {},
   "outputs": [
    {
     "data": {
      "text/plain": [
       "<seaborn.axisgrid.FacetGrid at 0x7efbe8577bd0>"
      ]
     },
     "execution_count": 27,
     "metadata": {},
     "output_type": "execute_result"
    },
    {
     "data": {
      "image/png": "[encoded data removed]",
      "text/plain": [
       "<Figure size 360x360 with 1 Axes>"
      ]
     },
     "metadata": {
      "needs_background": "light"
     },
     "output_type": "display_data"
    },
    {
     "data": {
      "image/png": "[encoded data removed]",
      "text/plain": [
       "<Figure size 360x360 with 1 Axes>"
      ]
     },
     "metadata": {
      "needs_background": "light"
     },
     "output_type": "display_data"
    }
   ],
   "source": [
    "truck=final_data[final_data['type'] == 'truck']\n",
    "#truck['paint_color'].value_counts() We have to exlude orange and purple\n",
    "#truck['transmission'].value_counts() All transmissions are eligeble\n",
    "\n",
    "truck = truck[truck.paint_color != 'orange']\n",
    "truck = truck[truck.paint_color != 'purple']\n",
    "sns.catplot(x=\"transmission\", y=\"price\", kind=\"box\", data=truck)\n",
    "sns.catplot(x=\"paint_color\", y=\"price\", kind=\"box\", data=truck)"
   ]
  },
  {
   "cell_type": "markdown",
   "metadata": {},
   "source": [
    "Again, we see that automatic gear boxes and 'other' gearbox have a higher avg price than manual transmission cars. On the colors we see that black truck has a higher avg price than others."
   ]
  },
  {
   "cell_type": "markdown",
   "metadata": {},
   "source": [
    "### Step 5. Overall conclusioner "
   ]
  },
  {
   "cell_type": "markdown",
   "metadata": {},
   "source": [
    "In this project, I did some analysis over car price and what influence in that price. Firstly, I ploted histogram for each attribute, then I cleaned the data from outliers. After filtering attributes that needed to be filtered, I calculated new histograms. Then I analysed days listed attribute and its coefficients. Then I did a table with most posted ads and median price, for each type of vehicle. I chose the to largest then I made some analyses for each dependecy with price of each attribute. I plotted scatterplots and found correlation coef for quantitive variables, and boxplot for categorical ones."
   ]
  },
  {
   "cell_type": "markdown",
   "metadata": {},
   "source": []
  },
  {
   "cell_type": "markdown",
   "metadata": {},
   "source": [
    "### Project completion checklist\n",
    "\n",
    "Mark the completed tasks with 'x'. Then press Shift+Enter."
   ]
  },
  {
   "cell_type": "markdown",
   "metadata": {},
   "source": [
    "- [x]  file opened\n",
    "- [x]  files explored (first rows printed, info() method)\n",
    "- [x]  missing values determined\n",
    "- [x]  missing values filled in\n",
    "- [x]  clarification of the discovered missing values provided\n",
    "- [x]  data types converted\n",
    "- [x]  explanation of which columns had the data types changed and why\n",
    "- [x]  calculated and added to the table: day of the week, month, and year the ad was placed\n",
    "- [x]  calculated and added to the table: the vehicle's age (in years) when the ad was placed\n",
    "- [x]  calculated and added to the table: the vehicle's average mileage per year\n",
    "- [x]  the following parameters investigated: price, vehicle's age when the ad was placed, mileage, number of cylinders, and condition\n",
    "- [x]  histograms for each parameter created\n",
    "- [x]  task completed: \"Determine the upper limits of outliers, remove the outliers and store them in a separate DataFrame, and continue your work with the filtered data.\"\n",
    "- [x]  task completed: \"Use the filtered data to plot new histograms. Compare them with the earlier histograms (the ones that included outliers). Draw conclusions for each histogram.\"\n",
    "- [x]  task completed: \"Study how many days advertisements were displayed (days_listed). Plot a histogram. Calculate the mean and median. Describe the typical lifetime of an ad. Determine when ads were removed quickly, and when they were listed for an abnormally long time.  \"\n",
    "- [x]  task completed: \"Analyze the number of ads and the average price for each type of vehicle. Plot a graph showing the dependence of the number of ads on the vehicle type. Select the two types with the greatest number of ads. \"\n",
    "- [x]  task completed: \"What factors impact the price most? Take each of the popular types you detected at the previous stage and study whether the price depends on age, mileage, condition, transmission type, and color. For categorical variables (transmission type and color), plot box-and-whisker charts, and create scatterplots for the rest. When analyzing categorical variables, note that the categories must have at least 50 ads; otherwise, their parameters won't be valid for analysis.  \"\n",
    "- [x]  each stage has a conclusion\n",
    "- [x]  overall conclusion drawn"
   ]
  },
  {
   "cell_type": "code",
   "execution_count": null,
   "metadata": {},
   "outputs": [],
   "source": []
  },
  {
   "cell_type": "code",
   "execution_count": null,
   "metadata": {},
   "outputs": [],
   "source": []
  },
  {
   "cell_type": "code",
   "execution_count": null,
   "metadata": {},
   "outputs": [],
   "source": []
  },
  {
   "cell_type": "code",
   "execution_count": null,
   "metadata": {},
   "outputs": [],
   "source": []
  }
 ],
 "metadata": {
  "kernelspec": {
   "display_name": "Python 3",
   "language": "python",
   "name": "python3"
  },
  "language_info": {
   "codemirror_mode": {
    "name": "ipython",
    "version": 3
   },
   "file_extension": ".py",
   "mimetype": "text/x-python",
   "name": "python",
   "nbconvert_exporter": "python",
   "pygments_lexer": "ipython3",
   "version": "3.7.4"
  },
  "toc": {
   "base_numbering": 1,
   "nav_menu": {},
   "number_sections": true,
   "sideBar": true,
   "skip_h1_title": false,
   "title_cell": "Table of Contents",
   "title_sidebar": "Contents",
   "toc_cell": false,
   "toc_position": {},
   "toc_section_display": true,
   "toc_window_display": false
  }
 },
 "nbformat": 4,
 "nbformat_minor": 2
}
